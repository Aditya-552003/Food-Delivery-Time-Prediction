{
  "nbformat": 4,
  "nbformat_minor": 0,
  "metadata": {
    "colab": {
      "provenance": []
    },
    "kernelspec": {
      "name": "python3",
      "display_name": "Python 3"
    },
    "language_info": {
      "name": "python"
    }
  },
  "cells": [
    {
      "cell_type": "code",
      "execution_count": null,
      "metadata": {
        "id": "b-oiayU1GvIX"
      },
      "outputs": [],
      "source": [
        "import pandas as pd\n",
        "import numpy as np\n",
        "import matplotlib.pyplot as plt\n",
        "from sklearn.model_selection import train_test_split\n",
        "from sklearn.linear_model import LinearRegression\n",
        "from sklearn.linear_model import LogisticRegression\n",
        "from sklearn.preprocessing import StandardScaler\n",
        "from sklearn.preprocessing import LabelEncoder, OneHotEncoder\n",
        "from sklearn.metrics import mean_squared_error, r2_score, mean_absolute_error\n",
        "from sklearn.metrics import accuracy_score, precision_score, recall_score, f1_score, confusion_matrix\n",
        "from sklearn.decomposition import PCA\n",
        "import seaborn as sns\n",
        "import ast\n",
        "from sklearn.metrics import roc_curve, auc\n",
        "import matplotlib.pyplot as plt\n",
        "from sklearn.metrics import ConfusionMatrixDisplay"
      ]
    },
    {
      "cell_type": "code",
      "source": [
        "df=pd.read_csv('Food_Delivery_Time_Prediction.csv')\n",
        "df=df.interpolate(method='linear',limit_direction='forward')"
      ],
      "metadata": {
        "colab": {
          "base_uri": "https://localhost:8080/"
        },
        "id": "75qrbkkXHeFx",
        "outputId": "23d6b9aa-d522-4f5e-a543-392e318ef169"
      },
      "execution_count": null,
      "outputs": [
        {
          "output_type": "stream",
          "name": "stderr",
          "text": [
            "<ipython-input-86-d2256c3c338e>:2: FutureWarning: DataFrame.interpolate with object dtype is deprecated and will raise in a future version. Call obj.infer_objects(copy=False) before interpolating instead.\n",
            "  df=df.interpolate(method='linear',limit_direction='forward')\n"
          ]
        }
      ]
    },
    {
      "cell_type": "code",
      "source": [
        "le = LabelEncoder()\n",
        "df[\"Traffic_Conditions\"] = le.fit_transform(df[\"Traffic_Conditions\"])\n",
        "df[\"Order_Priority\"] = le.fit_transform(df[\"Order_Priority\"])\n",
        "df[\"Weather_Conditions\"] = le.fit_transform(df[\"Weather_Conditions\"])\n",
        "\n",
        "df = pd.get_dummies(df, columns=[\"Vehicle_Type\"],drop_first=True)\n",
        "\n",
        "print(df.head())\n"
      ],
      "metadata": {
        "colab": {
          "base_uri": "https://localhost:8080/"
        },
        "id": "uw8khnmdMq5C",
        "outputId": "bd08a321-d9c6-45ab-9ef3-b5b5abda3b22"
      },
      "execution_count": null,
      "outputs": [
        {
          "output_type": "stream",
          "name": "stdout",
          "text": [
            "  Order_ID       Customer_Location     Restaurant_Location  Distance  \\\n",
            "0  ORD0001  (17.030479, 79.743077)  (12.358515, 85.100083)      1.57   \n",
            "1  ORD0002  (15.398319, 86.639122)  (14.174874, 77.025606)     21.32   \n",
            "2  ORD0003  (15.687342, 83.888808)  (19.594748, 82.048482)      6.95   \n",
            "3  ORD0004  (20.415599, 78.046984)  (16.915906, 78.278698)     13.79   \n",
            "4  ORD0005  (14.786904, 78.706532)  (15.206038, 86.203182)      6.72   \n",
            "\n",
            "   Weather_Conditions  Traffic_Conditions  Delivery_Person_Experience  \\\n",
            "0                   1                   2                           4   \n",
            "1                   0                   2                           8   \n",
            "2                   2                   2                           9   \n",
            "3                   0                   1                           2   \n",
            "4                   1                   0                           6   \n",
            "\n",
            "   Order_Priority Order_Time  Restaurant_Rating  Customer_Rating  \\\n",
            "0               2  Afternoon                4.1              3.0   \n",
            "1               1      Night                4.5              4.2   \n",
            "2               0      Night                3.3              3.4   \n",
            "3               2    Evening                3.2              3.7   \n",
            "4               1      Night                3.5              2.8   \n",
            "\n",
            "   Delivery_Time  Order_Cost  Tip_Amount  Vehicle_Type_Bike  Vehicle_Type_Car  \n",
            "0          26.22     1321.10       81.54              False              True  \n",
            "1          62.61      152.21       29.02              False              True  \n",
            "2          48.43     1644.38       64.17               True             False  \n",
            "3         111.63      541.25       79.23               True             False  \n",
            "4          32.38      619.81        2.34               True             False  \n"
          ]
        }
      ]
    },
    {
      "cell_type": "code",
      "source": [
        "scaler=StandardScaler()\n",
        "scaled_data=scaler.fit_transform(df[['Distance','Delivery_Time','Order_Cost']])\n",
        "scaled_data\n"
      ],
      "metadata": {
        "colab": {
          "base_uri": "https://localhost:8080/"
        },
        "id": "ul4wiWLlKcDV",
        "outputId": "426eab0c-be24-43fe-b9b9-80c627ba7568"
      },
      "execution_count": null,
      "outputs": [
        {
          "output_type": "execute_result",
          "data": {
            "text/plain": [
              "array([[-1.4547383 , -1.48793232,  0.50185201],\n",
              "       [ 1.43919167, -0.26498668, -1.63429385],\n",
              "       [-0.66641712, -0.74152884,  1.09264603],\n",
              "       [ 0.33583508,  1.38241083, -0.92332346],\n",
              "       [-0.70011859, -1.28091542, -0.7797551 ],\n",
              "       [-0.21950642, -0.32850323, -0.34016838],\n",
              "       [-0.9301677 , -1.40257145, -0.72558801],\n",
              "       [ 1.62235179, -0.44411007, -1.33812929],\n",
              "       [ 0.24791822, -0.78219287,  0.32266568],\n",
              "       [ 1.18130221,  0.37152309, -1.14626012],\n",
              "       [ 1.00253793, -1.20362014, -1.48624812],\n",
              "       [-1.23934199,  1.22277929, -0.25221083],\n",
              "       [-1.48843976, -1.59211291,  1.46278778],\n",
              "       [-1.55730797, -0.50628236, -0.40963163],\n",
              "       [-0.20924945, -1.38475993, -1.19337305],\n",
              "       [ 1.35274009, -0.68506968, -0.13494019],\n",
              "       [ 0.36953654, -1.77997402, -1.00852148],\n",
              "       [-0.99024422,  0.30733441, -1.58274009],\n",
              "       [-0.42318048, -0.98148025,  0.19276702],\n",
              "       [ 0.31532114,  1.17741032,  1.40125587],\n",
              "       [ 1.13734378, -0.91762763,  0.6074632 ],\n",
              "       [-0.92577186, -1.03491481,  0.63365127],\n",
              "       [-0.63857678,  0.93342612, -1.47711062],\n",
              "       [-0.86716062, -1.28629248,  1.68146636],\n",
              "       [-0.06418663,  1.17976279,  1.537898  ],\n",
              "       [-1.15582098,  0.34430171, -0.03305709],\n",
              "       [-1.28036986, -1.59648177,  1.16408299],\n",
              "       [-0.47006947,  1.06919694, -0.3535274 ],\n",
              "       [-0.63418094, -1.01743936, -1.43368923],\n",
              "       [-0.97119557, -1.21067754, -0.04319971],\n",
              "       [ 1.84653978,  0.58694165,  0.88171605],\n",
              "       [ 0.16000136, -1.73426899,  0.49715533],\n",
              "       [-0.38947901, -0.12283059, -1.67113624],\n",
              "       [-0.29130519, -0.09964201,  0.48268154],\n",
              "       [-0.44369441,  1.2056399 ,  1.30896715],\n",
              "       [ 1.71906034, -0.29926545, -0.437501  ],\n",
              "       [ 0.72559982,  0.04419441, -1.35729976],\n",
              "       [ 0.75344016, -0.14736344,  0.51268908],\n",
              "       [-0.98291782, -0.37219186, -1.10236358],\n",
              "       [-1.34337694,  0.81210614, -1.15896124],\n",
              "       [-0.53161127, -1.046005  , -1.00280141],\n",
              "       [-0.37043036,  1.20093497, -1.25298609],\n",
              "       [-0.91258433,  0.34161318, -0.0904223 ],\n",
              "       [-1.28623098,  1.01811485,  1.0232376 ],\n",
              "       [-0.72649364,  0.25457198,  1.25278981],\n",
              "       [ 0.13802214, -1.41500591, -0.36081912],\n",
              "       [-1.11039726,  0.95426223,  0.47412884],\n",
              "       [-0.47886116,  1.44357492, -0.22086921],\n",
              "       [ 0.64061352,  0.1083831 , -1.04002757],\n",
              "       [ 1.58425449, -0.38395419, -0.92425548],\n",
              "       [ 0.23326541, -0.77412728,  1.03348988],\n",
              "       [-1.48990504,  1.18950871, -0.0709777 ],\n",
              "       [ 0.68603724, -0.88805379,  1.15852739],\n",
              "       [ 0.1028554 , -0.23339644, -1.12221022],\n",
              "       [ 1.93152608, -0.0267156 , -0.1571443 ],\n",
              "       [ 0.11311237, -0.08149442, -0.24698418],\n",
              "       [ 1.17544109, -1.85088404,  1.26141561],\n",
              "       [ 0.75637072, -0.36513447, -0.42607913],\n",
              "       [ 0.25377934, -1.54607181,  0.34302403],\n",
              "       [ 0.6962942 ,  0.59836791, -0.32134513],\n",
              "       [-1.2847657 ,  0.22062927,  1.00923896],\n",
              "       [-1.51041898,  1.40862401, -0.55042219],\n",
              "       [-1.47378695,  1.51683739, -0.23870561],\n",
              "       [ 0.64940521,  0.07040759,  1.15383072],\n",
              "       [-0.00850596,  0.41588385, -1.57376707],\n",
              "       [-0.04660326,  0.49385126, -1.47696442],\n",
              "       [ 1.96376226, -0.12283059,  1.40125587],\n",
              "       [ 0.17465417,  0.04990754,  0.22721538],\n",
              "       [-1.22761974, -0.57013497,  0.53948022],\n",
              "       [-0.3748262 ,  0.08116172, -1.00073633],\n",
              "       [ 1.66191438,  1.50641933,  0.72813299],\n",
              "       [ 0.49848127,  0.12014542,  1.60440071],\n",
              "       [ 1.55348358, -0.16551102, -1.31528554],\n",
              "       [ 1.05235748,  0.70926982, -0.90853899],\n",
              "       [-0.57117386, -0.0277238 , -1.50936599],\n",
              "       [-1.34923807,  0.29758848, -0.68434135],\n",
              "       [-0.69718802,  0.28885075, -1.37888252],\n",
              "       [ 0.71094701,  1.14615615,  0.29682484],\n",
              "       [ 0.07648034, -0.34665081,  0.67582995],\n",
              "       [ 1.86998428, -0.62054493, -0.02993207],\n",
              "       [-1.60273168, -1.815261  ,  1.05615087],\n",
              "       [ 0.37979351, -0.11006007, -0.01849192],\n",
              "       [-0.27958294, -1.8572693 , -1.47314495],\n",
              "       [ 1.50073347,  1.43819785,  1.34114941],\n",
              "       [-0.34112474,  1.62337044, -1.47959602],\n",
              "       [-0.55652105, -1.6872197 ,  0.63747074],\n",
              "       [ 0.18051529,  1.60522286, -0.60906665],\n",
              "       [-0.43929857,  1.25873839,  0.92643496],\n",
              "       [-0.21950642,  1.31654182, -1.32974106],\n",
              "       [-1.37414784, -1.59278504, -1.00592643],\n",
              "       [-0.79243129, -0.96736546, -0.60066015],\n",
              "       [-1.20857109,  0.24045719, -1.20017135],\n",
              "       [-1.35802975,  0.71767148,  0.32060061],\n",
              "       [-0.46274306, -1.23285792, -0.57929668],\n",
              "       [ 0.28455024, -1.65630159,  1.73782645],\n",
              "       [ 1.56080999,  0.6964993 ,  0.93305051],\n",
              "       [ 0.12190405,  0.22701454, -1.68895436],\n",
              "       [ 1.2824066 , -0.08754362, -0.02002702],\n",
              "       [ 1.07580198,  0.35169517, -1.36418943],\n",
              "       [-0.20338833,  1.01172959, -1.45543648],\n",
              "       [-0.93895939, -0.48342984, -0.32450671],\n",
              "       [-0.30009687,  0.70019603, -0.53874447],\n",
              "       [ 0.22447372, -0.85713568,  1.66352032],\n",
              "       [ 0.0105427 , -1.60656376,  0.90861684],\n",
              "       [ 0.09699428,  1.4227388 ,  0.09523337],\n",
              "       [-0.94042467,  0.87192596,  0.47113174],\n",
              "       [ 1.50366403,  1.65260822, -0.5135067 ],\n",
              "       [ 1.21939952, -1.73393293, -1.18600823],\n",
              "       [-1.42543268,  0.20416202, -0.88642624],\n",
              "       [-1.43568965, -0.29960152, -1.05762639],\n",
              "       [-0.89353568,  1.06079528, -0.27300777],\n",
              "       [ 0.41496025, -0.05427304,  0.84385026],\n",
              "       [ 1.89782462,  0.54795795, -1.50382866],\n",
              "       [ 0.56734947, -0.42730675,  0.16169953],\n",
              "       [-1.6085928 , -0.51300368, -0.35502595],\n",
              "       [ 0.47796733, -0.22533084, -1.08447236],\n",
              "       [-0.34112474,  1.2446236 ,  0.01522545],\n",
              "       [ 0.29041137,  0.73716334,  0.44578432],\n",
              "       [ 0.97909343,  0.81008975,  0.11102297],\n",
              "       [ 1.41574717,  1.27453351,  1.20406868],\n",
              "       [-0.50084037,  0.50158079,  1.66664534],\n",
              "       [ 1.47435841, -0.68338935,  1.10891078],\n",
              "       [-0.2751871 ,  1.337714  , -1.53151528],\n",
              "       [ 1.31757334,  0.55703174,  0.20068009],\n",
              "       [ 1.58571977, -1.40626818,  1.33168296],\n",
              "       [ 0.30946002, -1.00466883,  0.3613173 ],\n",
              "       [ 1.35860121, -0.40210177, -0.03451909],\n",
              "       [-0.5213543 , -1.20933327,  1.09434561],\n",
              "       [ 0.96297534, -1.79845768,  0.22312179],\n",
              "       [-1.00929288,  1.43786179,  1.46373808],\n",
              "       [-1.49137032,  0.07208792,  1.3675385 ],\n",
              "       [ 1.08605895, -1.27889902,  0.90726449],\n",
              "       [-1.49137032,  1.46205857,  0.30881324],\n",
              "       [ 0.95271838, -1.13808719,  0.49892801],\n",
              "       [ 0.20542507,  0.11174376,  1.66668189],\n",
              "       [ 1.62381707,  0.310359  , -0.81440449],\n",
              "       [ 0.56295363, -1.57799812, -0.1760772 ],\n",
              "       [-0.27225654,  1.29906636,  1.24644839],\n",
              "       [-0.15796462,  1.51885379, -1.10685923],\n",
              "       [ 0.16586248, -1.39047306, -1.51788213],\n",
              "       [ 0.17611945, -0.00319095,  1.02285383],\n",
              "       [ 0.21568204,  1.5437227 , -0.89896289],\n",
              "       [ 0.7812805 , -0.2747326 ,  0.44318927],\n",
              "       [-0.45395138,  0.91090967, -1.51614601],\n",
              "       [-0.8993968 ,  0.34026891, -0.52335692],\n",
              "       [ 0.39884216,  0.98921314, -0.852983  ],\n",
              "       [-1.52507179,  0.87427843, -0.28411897],\n",
              "       [-1.41957155, -1.74166245,  0.20822767],\n",
              "       [-0.64590319, -0.81210278, -1.13704952],\n",
              "       [ 1.1666494 ,  1.12229543,  0.31902896],\n",
              "       [-0.12426315,  0.59635151,  0.8643548 ],\n",
              "       [-0.30156216, -0.70321727, -1.21331107],\n",
              "       [-0.40999295,  0.99122954,  0.97912177],\n",
              "       [-0.10814506,  0.27372777,  1.52919911],\n",
              "       [ 0.66405802,  0.9475409 ,  0.24633103],\n",
              "       [ 0.49115486, -1.27453015,  1.59661556],\n",
              "       [-0.53161127, -1.63983433,  0.04462991],\n",
              "       [-0.23708979, -1.61362116,  1.05786872],\n",
              "       [ 0.38418935,  0.84504065,  1.56812485],\n",
              "       [ 1.80111607, -1.47953066, -1.53025431],\n",
              "       [-0.20338833, -0.34631475, -1.67115451],\n",
              "       [-0.68106993,  1.29738603,  1.4713953 ],\n",
              "       [ 1.82309529, -1.26243176, -0.71999587],\n",
              "       [ 1.42746942, -1.05239026,  0.35903292],\n",
              "       [-0.48032644,  1.10414785,  1.30639037],\n",
              "       [-0.43343744,  0.2754081 , -0.8728662 ],\n",
              "       [-0.38508317, -1.61799002, -1.66799294],\n",
              "       [-1.42250212, -0.08687148,  1.70268363],\n",
              "       [ 1.72052562, -1.02315248, -0.20169874],\n",
              "       [-1.05032074, -0.02402707,  0.41866423],\n",
              "       [-1.3931965 ,  1.47146843,  1.06877889],\n",
              "       [ 0.23766125,  0.13157168,  0.38151117],\n",
              "       [-0.81880635, -0.21222425,  1.42483061],\n",
              "       [ 1.58865033,  0.41890845,  0.80327977],\n",
              "       [-1.40638403,  0.76304045, -0.49683991],\n",
              "       [-0.60341004, -0.68809428,  0.42447568],\n",
              "       [-0.90965377, -0.74724197,  1.38685517],\n",
              "       [ 0.87066264,  1.36728784,  0.5972292 ],\n",
              "       [-0.32061081,  0.32312953,  1.4664245 ],\n",
              "       [-0.91698017,  0.89309815, -0.0955393 ],\n",
              "       [-0.63125038,  0.46528562, -0.50966895],\n",
              "       [-1.32432829,  1.46911596,  0.49808736],\n",
              "       [ 1.07287142, -0.46091339,  0.11506174],\n",
              "       [-0.01583236,  1.00097546, -0.49649268],\n",
              "       [-0.60341004, -1.34443197,  0.64967844],\n",
              "       [-1.20857109,  0.62894995,  0.99087259],\n",
              "       [-1.16314738, -1.10380842, -0.73554789],\n",
              "       [-0.71770196,  1.2147137 , -1.58359902],\n",
              "       [ 1.81283832,  0.14971926,  1.06696967],\n",
              "       [-0.13745068,  1.17337753,  1.31711779],\n",
              "       [ 0.56588419,  0.40748219,  0.32372563],\n",
              "       [-1.05032074,  1.0335739 ,  1.41439559],\n",
              "       [ 1.63846988,  0.9495573 , -0.64539734],\n",
              "       [-0.72795892,  0.6615484 , -0.32929475],\n",
              "       [ 0.982024  ,  1.64555082, -0.12958561],\n",
              "       [ 1.80551192, -0.67565982,  0.70499685],\n",
              "       [-0.79243129,  0.67364679,  1.23129842],\n",
              "       [ 1.33515672,  0.09090764,  0.56669169],\n",
              "       [ 1.84067866, -0.55635625, -1.26481001],\n",
              "       [-0.33965946,  0.27171137, -1.32084114]])"
            ]
          },
          "metadata": {},
          "execution_count": 9
        }
      ]
    },
    {
      "cell_type": "code",
      "source": [
        "d=df[['Distance','Delivery_Person_Experience','Restaurant_Rating','Customer_Rating','Delivery_Time','Order_Cost','Tip_Amount']]\n",
        "d.mean()"
      ],
      "metadata": {
        "colab": {
          "base_uri": "https://localhost:8080/",
          "height": 303
        },
        "id": "0J9rYdbjSW3O",
        "outputId": "a598cb9f-4d66-4259-ae90-c3a369941d31"
      },
      "execution_count": null,
      "outputs": [
        {
          "output_type": "execute_result",
          "data": {
            "text/plain": [
              "Distance                        11.49805\n",
              "Delivery_Person_Experience       5.25000\n",
              "Restaurant_Rating                3.73850\n",
              "Customer_Rating                  3.68650\n",
              "Delivery_Time                   70.49495\n",
              "Order_Cost                    1046.48870\n",
              "Tip_Amount                      46.61665\n",
              "dtype: float64"
            ],
            "text/html": [
              "<div>\n",
              "<style scoped>\n",
              "    .dataframe tbody tr th:only-of-type {\n",
              "        vertical-align: middle;\n",
              "    }\n",
              "\n",
              "    .dataframe tbody tr th {\n",
              "        vertical-align: top;\n",
              "    }\n",
              "\n",
              "    .dataframe thead th {\n",
              "        text-align: right;\n",
              "    }\n",
              "</style>\n",
              "<table border=\"1\" class=\"dataframe\">\n",
              "  <thead>\n",
              "    <tr style=\"text-align: right;\">\n",
              "      <th></th>\n",
              "      <th>0</th>\n",
              "    </tr>\n",
              "  </thead>\n",
              "  <tbody>\n",
              "    <tr>\n",
              "      <th>Distance</th>\n",
              "      <td>11.49805</td>\n",
              "    </tr>\n",
              "    <tr>\n",
              "      <th>Delivery_Person_Experience</th>\n",
              "      <td>5.25000</td>\n",
              "    </tr>\n",
              "    <tr>\n",
              "      <th>Restaurant_Rating</th>\n",
              "      <td>3.73850</td>\n",
              "    </tr>\n",
              "    <tr>\n",
              "      <th>Customer_Rating</th>\n",
              "      <td>3.68650</td>\n",
              "    </tr>\n",
              "    <tr>\n",
              "      <th>Delivery_Time</th>\n",
              "      <td>70.49495</td>\n",
              "    </tr>\n",
              "    <tr>\n",
              "      <th>Order_Cost</th>\n",
              "      <td>1046.48870</td>\n",
              "    </tr>\n",
              "    <tr>\n",
              "      <th>Tip_Amount</th>\n",
              "      <td>46.61665</td>\n",
              "    </tr>\n",
              "  </tbody>\n",
              "</table>\n",
              "</div><br><label><b>dtype:</b> float64</label>"
            ]
          },
          "metadata": {},
          "execution_count": 10
        }
      ]
    },
    {
      "cell_type": "code",
      "source": [
        "d.median()"
      ],
      "metadata": {
        "colab": {
          "base_uri": "https://localhost:8080/",
          "height": 303
        },
        "id": "pYCtxCQoVC9P",
        "outputId": "ca891e53-6a49-4be4-c6c0-f2dae6c159e9"
      },
      "execution_count": null,
      "outputs": [
        {
          "output_type": "execute_result",
          "data": {
            "text/plain": [
              "Distance                        10.265\n",
              "Delivery_Person_Experience       5.000\n",
              "Restaurant_Rating                3.800\n",
              "Customer_Rating                  3.700\n",
              "Delivery_Time                   72.775\n",
              "Order_Cost                    1035.950\n",
              "Tip_Amount                      47.530\n",
              "dtype: float64"
            ],
            "text/html": [
              "<div>\n",
              "<style scoped>\n",
              "    .dataframe tbody tr th:only-of-type {\n",
              "        vertical-align: middle;\n",
              "    }\n",
              "\n",
              "    .dataframe tbody tr th {\n",
              "        vertical-align: top;\n",
              "    }\n",
              "\n",
              "    .dataframe thead th {\n",
              "        text-align: right;\n",
              "    }\n",
              "</style>\n",
              "<table border=\"1\" class=\"dataframe\">\n",
              "  <thead>\n",
              "    <tr style=\"text-align: right;\">\n",
              "      <th></th>\n",
              "      <th>0</th>\n",
              "    </tr>\n",
              "  </thead>\n",
              "  <tbody>\n",
              "    <tr>\n",
              "      <th>Distance</th>\n",
              "      <td>10.265</td>\n",
              "    </tr>\n",
              "    <tr>\n",
              "      <th>Delivery_Person_Experience</th>\n",
              "      <td>5.000</td>\n",
              "    </tr>\n",
              "    <tr>\n",
              "      <th>Restaurant_Rating</th>\n",
              "      <td>3.800</td>\n",
              "    </tr>\n",
              "    <tr>\n",
              "      <th>Customer_Rating</th>\n",
              "      <td>3.700</td>\n",
              "    </tr>\n",
              "    <tr>\n",
              "      <th>Delivery_Time</th>\n",
              "      <td>72.775</td>\n",
              "    </tr>\n",
              "    <tr>\n",
              "      <th>Order_Cost</th>\n",
              "      <td>1035.950</td>\n",
              "    </tr>\n",
              "    <tr>\n",
              "      <th>Tip_Amount</th>\n",
              "      <td>47.530</td>\n",
              "    </tr>\n",
              "  </tbody>\n",
              "</table>\n",
              "</div><br><label><b>dtype:</b> float64</label>"
            ]
          },
          "metadata": {},
          "execution_count": 11
        }
      ]
    },
    {
      "cell_type": "code",
      "source": [
        "d.mode()"
      ],
      "metadata": {
        "colab": {
          "base_uri": "https://localhost:8080/",
          "height": 351
        },
        "id": "pwzmLdb2WMKf",
        "outputId": "a83c4855-eb41-4f48-fa4a-5cbae3fa1f13"
      },
      "execution_count": null,
      "outputs": [
        {
          "output_type": "execute_result",
          "data": {
            "text/plain": [
              "   Distance  Delivery_Person_Experience  Restaurant_Rating  Customer_Rating  \\\n",
              "0      1.32                         8.0                3.8              2.6   \n",
              "1      3.25                         NaN                NaN              3.4   \n",
              "2      4.33                         NaN                NaN              NaN   \n",
              "3      6.09                         NaN                NaN              NaN   \n",
              "4      7.38                         NaN                NaN              NaN   \n",
              "5      7.87                         NaN                NaN              NaN   \n",
              "6      9.17                         NaN                NaN              NaN   \n",
              "7     10.00                         NaN                NaN              NaN   \n",
              "8     10.11                         NaN                NaN              NaN   \n",
              "\n",
              "   Delivery_Time  Order_Cost  Tip_Amount  \n",
              "0          66.84     1813.25        2.22  \n",
              "1            NaN         NaN       24.16  \n",
              "2            NaN         NaN         NaN  \n",
              "3            NaN         NaN         NaN  \n",
              "4            NaN         NaN         NaN  \n",
              "5            NaN         NaN         NaN  \n",
              "6            NaN         NaN         NaN  \n",
              "7            NaN         NaN         NaN  \n",
              "8            NaN         NaN         NaN  "
            ],
            "text/html": [
              "\n",
              "  <div id=\"df-d08912c4-de5c-44d6-a88f-be536d4d171f\" class=\"colab-df-container\">\n",
              "    <div>\n",
              "<style scoped>\n",
              "    .dataframe tbody tr th:only-of-type {\n",
              "        vertical-align: middle;\n",
              "    }\n",
              "\n",
              "    .dataframe tbody tr th {\n",
              "        vertical-align: top;\n",
              "    }\n",
              "\n",
              "    .dataframe thead th {\n",
              "        text-align: right;\n",
              "    }\n",
              "</style>\n",
              "<table border=\"1\" class=\"dataframe\">\n",
              "  <thead>\n",
              "    <tr style=\"text-align: right;\">\n",
              "      <th></th>\n",
              "      <th>Distance</th>\n",
              "      <th>Delivery_Person_Experience</th>\n",
              "      <th>Restaurant_Rating</th>\n",
              "      <th>Customer_Rating</th>\n",
              "      <th>Delivery_Time</th>\n",
              "      <th>Order_Cost</th>\n",
              "      <th>Tip_Amount</th>\n",
              "    </tr>\n",
              "  </thead>\n",
              "  <tbody>\n",
              "    <tr>\n",
              "      <th>0</th>\n",
              "      <td>1.32</td>\n",
              "      <td>8.0</td>\n",
              "      <td>3.8</td>\n",
              "      <td>2.6</td>\n",
              "      <td>66.84</td>\n",
              "      <td>1813.25</td>\n",
              "      <td>2.22</td>\n",
              "    </tr>\n",
              "    <tr>\n",
              "      <th>1</th>\n",
              "      <td>3.25</td>\n",
              "      <td>NaN</td>\n",
              "      <td>NaN</td>\n",
              "      <td>3.4</td>\n",
              "      <td>NaN</td>\n",
              "      <td>NaN</td>\n",
              "      <td>24.16</td>\n",
              "    </tr>\n",
              "    <tr>\n",
              "      <th>2</th>\n",
              "      <td>4.33</td>\n",
              "      <td>NaN</td>\n",
              "      <td>NaN</td>\n",
              "      <td>NaN</td>\n",
              "      <td>NaN</td>\n",
              "      <td>NaN</td>\n",
              "      <td>NaN</td>\n",
              "    </tr>\n",
              "    <tr>\n",
              "      <th>3</th>\n",
              "      <td>6.09</td>\n",
              "      <td>NaN</td>\n",
              "      <td>NaN</td>\n",
              "      <td>NaN</td>\n",
              "      <td>NaN</td>\n",
              "      <td>NaN</td>\n",
              "      <td>NaN</td>\n",
              "    </tr>\n",
              "    <tr>\n",
              "      <th>4</th>\n",
              "      <td>7.38</td>\n",
              "      <td>NaN</td>\n",
              "      <td>NaN</td>\n",
              "      <td>NaN</td>\n",
              "      <td>NaN</td>\n",
              "      <td>NaN</td>\n",
              "      <td>NaN</td>\n",
              "    </tr>\n",
              "    <tr>\n",
              "      <th>5</th>\n",
              "      <td>7.87</td>\n",
              "      <td>NaN</td>\n",
              "      <td>NaN</td>\n",
              "      <td>NaN</td>\n",
              "      <td>NaN</td>\n",
              "      <td>NaN</td>\n",
              "      <td>NaN</td>\n",
              "    </tr>\n",
              "    <tr>\n",
              "      <th>6</th>\n",
              "      <td>9.17</td>\n",
              "      <td>NaN</td>\n",
              "      <td>NaN</td>\n",
              "      <td>NaN</td>\n",
              "      <td>NaN</td>\n",
              "      <td>NaN</td>\n",
              "      <td>NaN</td>\n",
              "    </tr>\n",
              "    <tr>\n",
              "      <th>7</th>\n",
              "      <td>10.00</td>\n",
              "      <td>NaN</td>\n",
              "      <td>NaN</td>\n",
              "      <td>NaN</td>\n",
              "      <td>NaN</td>\n",
              "      <td>NaN</td>\n",
              "      <td>NaN</td>\n",
              "    </tr>\n",
              "    <tr>\n",
              "      <th>8</th>\n",
              "      <td>10.11</td>\n",
              "      <td>NaN</td>\n",
              "      <td>NaN</td>\n",
              "      <td>NaN</td>\n",
              "      <td>NaN</td>\n",
              "      <td>NaN</td>\n",
              "      <td>NaN</td>\n",
              "    </tr>\n",
              "  </tbody>\n",
              "</table>\n",
              "</div>\n",
              "    <div class=\"colab-df-buttons\">\n",
              "\n",
              "  <div class=\"colab-df-container\">\n",
              "    <button class=\"colab-df-convert\" onclick=\"convertToInteractive('df-d08912c4-de5c-44d6-a88f-be536d4d171f')\"\n",
              "            title=\"Convert this dataframe to an interactive table.\"\n",
              "            style=\"display:none;\">\n",
              "\n",
              "  <svg xmlns=\"http://www.w3.org/2000/svg\" height=\"24px\" viewBox=\"0 -960 960 960\">\n",
              "    <path d=\"M120-120v-720h720v720H120Zm60-500h600v-160H180v160Zm220 220h160v-160H400v160Zm0 220h160v-160H400v160ZM180-400h160v-160H180v160Zm440 0h160v-160H620v160ZM180-180h160v-160H180v160Zm440 0h160v-160H620v160Z\"/>\n",
              "  </svg>\n",
              "    </button>\n",
              "\n",
              "  <style>\n",
              "    .colab-df-container {\n",
              "      display:flex;\n",
              "      gap: 12px;\n",
              "    }\n",
              "\n",
              "    .colab-df-convert {\n",
              "      background-color: #E8F0FE;\n",
              "      border: none;\n",
              "      border-radius: 50%;\n",
              "      cursor: pointer;\n",
              "      display: none;\n",
              "      fill: #1967D2;\n",
              "      height: 32px;\n",
              "      padding: 0 0 0 0;\n",
              "      width: 32px;\n",
              "    }\n",
              "\n",
              "    .colab-df-convert:hover {\n",
              "      background-color: #E2EBFA;\n",
              "      box-shadow: 0px 1px 2px rgba(60, 64, 67, 0.3), 0px 1px 3px 1px rgba(60, 64, 67, 0.15);\n",
              "      fill: #174EA6;\n",
              "    }\n",
              "\n",
              "    .colab-df-buttons div {\n",
              "      margin-bottom: 4px;\n",
              "    }\n",
              "\n",
              "    [theme=dark] .colab-df-convert {\n",
              "      background-color: #3B4455;\n",
              "      fill: #D2E3FC;\n",
              "    }\n",
              "\n",
              "    [theme=dark] .colab-df-convert:hover {\n",
              "      background-color: #434B5C;\n",
              "      box-shadow: 0px 1px 3px 1px rgba(0, 0, 0, 0.15);\n",
              "      filter: drop-shadow(0px 1px 2px rgba(0, 0, 0, 0.3));\n",
              "      fill: #FFFFFF;\n",
              "    }\n",
              "  </style>\n",
              "\n",
              "    <script>\n",
              "      const buttonEl =\n",
              "        document.querySelector('#df-d08912c4-de5c-44d6-a88f-be536d4d171f button.colab-df-convert');\n",
              "      buttonEl.style.display =\n",
              "        google.colab.kernel.accessAllowed ? 'block' : 'none';\n",
              "\n",
              "      async function convertToInteractive(key) {\n",
              "        const element = document.querySelector('#df-d08912c4-de5c-44d6-a88f-be536d4d171f');\n",
              "        const dataTable =\n",
              "          await google.colab.kernel.invokeFunction('convertToInteractive',\n",
              "                                                    [key], {});\n",
              "        if (!dataTable) return;\n",
              "\n",
              "        const docLinkHtml = 'Like what you see? Visit the ' +\n",
              "          '<a target=\"_blank\" href=https://colab.research.google.com/notebooks/data_table.ipynb>data table notebook</a>'\n",
              "          + ' to learn more about interactive tables.';\n",
              "        element.innerHTML = '';\n",
              "        dataTable['output_type'] = 'display_data';\n",
              "        await google.colab.output.renderOutput(dataTable, element);\n",
              "        const docLink = document.createElement('div');\n",
              "        docLink.innerHTML = docLinkHtml;\n",
              "        element.appendChild(docLink);\n",
              "      }\n",
              "    </script>\n",
              "  </div>\n",
              "\n",
              "\n",
              "<div id=\"df-fad0d822-7a83-4509-a398-409d05100ae9\">\n",
              "  <button class=\"colab-df-quickchart\" onclick=\"quickchart('df-fad0d822-7a83-4509-a398-409d05100ae9')\"\n",
              "            title=\"Suggest charts\"\n",
              "            style=\"display:none;\">\n",
              "\n",
              "<svg xmlns=\"http://www.w3.org/2000/svg\" height=\"24px\"viewBox=\"0 0 24 24\"\n",
              "     width=\"24px\">\n",
              "    <g>\n",
              "        <path d=\"M19 3H5c-1.1 0-2 .9-2 2v14c0 1.1.9 2 2 2h14c1.1 0 2-.9 2-2V5c0-1.1-.9-2-2-2zM9 17H7v-7h2v7zm4 0h-2V7h2v10zm4 0h-2v-4h2v4z\"/>\n",
              "    </g>\n",
              "</svg>\n",
              "  </button>\n",
              "\n",
              "<style>\n",
              "  .colab-df-quickchart {\n",
              "      --bg-color: #E8F0FE;\n",
              "      --fill-color: #1967D2;\n",
              "      --hover-bg-color: #E2EBFA;\n",
              "      --hover-fill-color: #174EA6;\n",
              "      --disabled-fill-color: #AAA;\n",
              "      --disabled-bg-color: #DDD;\n",
              "  }\n",
              "\n",
              "  [theme=dark] .colab-df-quickchart {\n",
              "      --bg-color: #3B4455;\n",
              "      --fill-color: #D2E3FC;\n",
              "      --hover-bg-color: #434B5C;\n",
              "      --hover-fill-color: #FFFFFF;\n",
              "      --disabled-bg-color: #3B4455;\n",
              "      --disabled-fill-color: #666;\n",
              "  }\n",
              "\n",
              "  .colab-df-quickchart {\n",
              "    background-color: var(--bg-color);\n",
              "    border: none;\n",
              "    border-radius: 50%;\n",
              "    cursor: pointer;\n",
              "    display: none;\n",
              "    fill: var(--fill-color);\n",
              "    height: 32px;\n",
              "    padding: 0;\n",
              "    width: 32px;\n",
              "  }\n",
              "\n",
              "  .colab-df-quickchart:hover {\n",
              "    background-color: var(--hover-bg-color);\n",
              "    box-shadow: 0 1px 2px rgba(60, 64, 67, 0.3), 0 1px 3px 1px rgba(60, 64, 67, 0.15);\n",
              "    fill: var(--button-hover-fill-color);\n",
              "  }\n",
              "\n",
              "  .colab-df-quickchart-complete:disabled,\n",
              "  .colab-df-quickchart-complete:disabled:hover {\n",
              "    background-color: var(--disabled-bg-color);\n",
              "    fill: var(--disabled-fill-color);\n",
              "    box-shadow: none;\n",
              "  }\n",
              "\n",
              "  .colab-df-spinner {\n",
              "    border: 2px solid var(--fill-color);\n",
              "    border-color: transparent;\n",
              "    border-bottom-color: var(--fill-color);\n",
              "    animation:\n",
              "      spin 1s steps(1) infinite;\n",
              "  }\n",
              "\n",
              "  @keyframes spin {\n",
              "    0% {\n",
              "      border-color: transparent;\n",
              "      border-bottom-color: var(--fill-color);\n",
              "      border-left-color: var(--fill-color);\n",
              "    }\n",
              "    20% {\n",
              "      border-color: transparent;\n",
              "      border-left-color: var(--fill-color);\n",
              "      border-top-color: var(--fill-color);\n",
              "    }\n",
              "    30% {\n",
              "      border-color: transparent;\n",
              "      border-left-color: var(--fill-color);\n",
              "      border-top-color: var(--fill-color);\n",
              "      border-right-color: var(--fill-color);\n",
              "    }\n",
              "    40% {\n",
              "      border-color: transparent;\n",
              "      border-right-color: var(--fill-color);\n",
              "      border-top-color: var(--fill-color);\n",
              "    }\n",
              "    60% {\n",
              "      border-color: transparent;\n",
              "      border-right-color: var(--fill-color);\n",
              "    }\n",
              "    80% {\n",
              "      border-color: transparent;\n",
              "      border-right-color: var(--fill-color);\n",
              "      border-bottom-color: var(--fill-color);\n",
              "    }\n",
              "    90% {\n",
              "      border-color: transparent;\n",
              "      border-bottom-color: var(--fill-color);\n",
              "    }\n",
              "  }\n",
              "</style>\n",
              "\n",
              "  <script>\n",
              "    async function quickchart(key) {\n",
              "      const quickchartButtonEl =\n",
              "        document.querySelector('#' + key + ' button');\n",
              "      quickchartButtonEl.disabled = true;  // To prevent multiple clicks.\n",
              "      quickchartButtonEl.classList.add('colab-df-spinner');\n",
              "      try {\n",
              "        const charts = await google.colab.kernel.invokeFunction(\n",
              "            'suggestCharts', [key], {});\n",
              "      } catch (error) {\n",
              "        console.error('Error during call to suggestCharts:', error);\n",
              "      }\n",
              "      quickchartButtonEl.classList.remove('colab-df-spinner');\n",
              "      quickchartButtonEl.classList.add('colab-df-quickchart-complete');\n",
              "    }\n",
              "    (() => {\n",
              "      let quickchartButtonEl =\n",
              "        document.querySelector('#df-fad0d822-7a83-4509-a398-409d05100ae9 button');\n",
              "      quickchartButtonEl.style.display =\n",
              "        google.colab.kernel.accessAllowed ? 'block' : 'none';\n",
              "    })();\n",
              "  </script>\n",
              "</div>\n",
              "\n",
              "    </div>\n",
              "  </div>\n"
            ],
            "application/vnd.google.colaboratory.intrinsic+json": {
              "type": "dataframe",
              "summary": "{\n  \"name\": \"d\",\n  \"rows\": 9,\n  \"fields\": [\n    {\n      \"column\": \"Distance\",\n      \"properties\": {\n        \"dtype\": \"number\",\n        \"std\": 3.1068191128548186,\n        \"min\": 1.32,\n        \"max\": 10.11,\n        \"num_unique_values\": 9,\n        \"samples\": [\n          10.0,\n          3.25,\n          7.87\n        ],\n        \"semantic_type\": \"\",\n        \"description\": \"\"\n      }\n    },\n    {\n      \"column\": \"Delivery_Person_Experience\",\n      \"properties\": {\n        \"dtype\": \"number\",\n        \"std\": null,\n        \"min\": 8.0,\n        \"max\": 8.0,\n        \"num_unique_values\": 1,\n        \"samples\": [\n          8.0\n        ],\n        \"semantic_type\": \"\",\n        \"description\": \"\"\n      }\n    },\n    {\n      \"column\": \"Restaurant_Rating\",\n      \"properties\": {\n        \"dtype\": \"number\",\n        \"std\": null,\n        \"min\": 3.8,\n        \"max\": 3.8,\n        \"num_unique_values\": 1,\n        \"samples\": [\n          3.8\n        ],\n        \"semantic_type\": \"\",\n        \"description\": \"\"\n      }\n    },\n    {\n      \"column\": \"Customer_Rating\",\n      \"properties\": {\n        \"dtype\": \"number\",\n        \"std\": 0.5656854249492379,\n        \"min\": 2.6,\n        \"max\": 3.4,\n        \"num_unique_values\": 2,\n        \"samples\": [\n          3.4\n        ],\n        \"semantic_type\": \"\",\n        \"description\": \"\"\n      }\n    },\n    {\n      \"column\": \"Delivery_Time\",\n      \"properties\": {\n        \"dtype\": \"number\",\n        \"std\": null,\n        \"min\": 66.84,\n        \"max\": 66.84,\n        \"num_unique_values\": 1,\n        \"samples\": [\n          66.84\n        ],\n        \"semantic_type\": \"\",\n        \"description\": \"\"\n      }\n    },\n    {\n      \"column\": \"Order_Cost\",\n      \"properties\": {\n        \"dtype\": \"number\",\n        \"std\": null,\n        \"min\": 1813.25,\n        \"max\": 1813.25,\n        \"num_unique_values\": 1,\n        \"samples\": [\n          1813.25\n        ],\n        \"semantic_type\": \"\",\n        \"description\": \"\"\n      }\n    },\n    {\n      \"column\": \"Tip_Amount\",\n      \"properties\": {\n        \"dtype\": \"number\",\n        \"std\": 15.513922779232853,\n        \"min\": 2.22,\n        \"max\": 24.16,\n        \"num_unique_values\": 2,\n        \"samples\": [\n          24.16\n        ],\n        \"semantic_type\": \"\",\n        \"description\": \"\"\n      }\n    }\n  ]\n}"
            }
          },
          "metadata": {},
          "execution_count": 12
        }
      ]
    },
    {
      "cell_type": "code",
      "source": [
        "d.var()"
      ],
      "metadata": {
        "colab": {
          "base_uri": "https://localhost:8080/",
          "height": 303
        },
        "id": "2nYeqZslWMG6",
        "outputId": "3c3f3316-9b64-472d-9d4e-1a7c95eec564"
      },
      "execution_count": null,
      "outputs": [
        {
          "output_type": "execute_result",
          "data": {
            "text/plain": [
              "Distance                          46.809617\n",
              "Delivery_Person_Experience         7.535176\n",
              "Restaurant_Rating                  0.494239\n",
              "Customer_Rating                    0.485897\n",
              "Delivery_Time                    889.870323\n",
              "Order_Cost                    300927.862112\n",
              "Tip_Amount                       862.109808\n",
              "dtype: float64"
            ],
            "text/html": [
              "<div>\n",
              "<style scoped>\n",
              "    .dataframe tbody tr th:only-of-type {\n",
              "        vertical-align: middle;\n",
              "    }\n",
              "\n",
              "    .dataframe tbody tr th {\n",
              "        vertical-align: top;\n",
              "    }\n",
              "\n",
              "    .dataframe thead th {\n",
              "        text-align: right;\n",
              "    }\n",
              "</style>\n",
              "<table border=\"1\" class=\"dataframe\">\n",
              "  <thead>\n",
              "    <tr style=\"text-align: right;\">\n",
              "      <th></th>\n",
              "      <th>0</th>\n",
              "    </tr>\n",
              "  </thead>\n",
              "  <tbody>\n",
              "    <tr>\n",
              "      <th>Distance</th>\n",
              "      <td>46.809617</td>\n",
              "    </tr>\n",
              "    <tr>\n",
              "      <th>Delivery_Person_Experience</th>\n",
              "      <td>7.535176</td>\n",
              "    </tr>\n",
              "    <tr>\n",
              "      <th>Restaurant_Rating</th>\n",
              "      <td>0.494239</td>\n",
              "    </tr>\n",
              "    <tr>\n",
              "      <th>Customer_Rating</th>\n",
              "      <td>0.485897</td>\n",
              "    </tr>\n",
              "    <tr>\n",
              "      <th>Delivery_Time</th>\n",
              "      <td>889.870323</td>\n",
              "    </tr>\n",
              "    <tr>\n",
              "      <th>Order_Cost</th>\n",
              "      <td>300927.862112</td>\n",
              "    </tr>\n",
              "    <tr>\n",
              "      <th>Tip_Amount</th>\n",
              "      <td>862.109808</td>\n",
              "    </tr>\n",
              "  </tbody>\n",
              "</table>\n",
              "</div><br><label><b>dtype:</b> float64</label>"
            ]
          },
          "metadata": {},
          "execution_count": 13
        }
      ]
    },
    {
      "cell_type": "code",
      "source": [
        "d.std()"
      ],
      "metadata": {
        "colab": {
          "base_uri": "https://localhost:8080/",
          "height": 303
        },
        "id": "aD4afHLqWMCF",
        "outputId": "7b10ff84-4b8b-4a8b-be00-aa342f918e1a"
      },
      "execution_count": null,
      "outputs": [
        {
          "output_type": "execute_result",
          "data": {
            "text/plain": [
              "Distance                        6.841755\n",
              "Delivery_Person_Experience      2.745027\n",
              "Restaurant_Rating               0.703021\n",
              "Customer_Rating                 0.697063\n",
              "Delivery_Time                  29.830694\n",
              "Order_Cost                    548.568922\n",
              "Tip_Amount                     29.361706\n",
              "dtype: float64"
            ],
            "text/html": [
              "<div>\n",
              "<style scoped>\n",
              "    .dataframe tbody tr th:only-of-type {\n",
              "        vertical-align: middle;\n",
              "    }\n",
              "\n",
              "    .dataframe tbody tr th {\n",
              "        vertical-align: top;\n",
              "    }\n",
              "\n",
              "    .dataframe thead th {\n",
              "        text-align: right;\n",
              "    }\n",
              "</style>\n",
              "<table border=\"1\" class=\"dataframe\">\n",
              "  <thead>\n",
              "    <tr style=\"text-align: right;\">\n",
              "      <th></th>\n",
              "      <th>0</th>\n",
              "    </tr>\n",
              "  </thead>\n",
              "  <tbody>\n",
              "    <tr>\n",
              "      <th>Distance</th>\n",
              "      <td>6.841755</td>\n",
              "    </tr>\n",
              "    <tr>\n",
              "      <th>Delivery_Person_Experience</th>\n",
              "      <td>2.745027</td>\n",
              "    </tr>\n",
              "    <tr>\n",
              "      <th>Restaurant_Rating</th>\n",
              "      <td>0.703021</td>\n",
              "    </tr>\n",
              "    <tr>\n",
              "      <th>Customer_Rating</th>\n",
              "      <td>0.697063</td>\n",
              "    </tr>\n",
              "    <tr>\n",
              "      <th>Delivery_Time</th>\n",
              "      <td>29.830694</td>\n",
              "    </tr>\n",
              "    <tr>\n",
              "      <th>Order_Cost</th>\n",
              "      <td>548.568922</td>\n",
              "    </tr>\n",
              "    <tr>\n",
              "      <th>Tip_Amount</th>\n",
              "      <td>29.361706</td>\n",
              "    </tr>\n",
              "  </tbody>\n",
              "</table>\n",
              "</div><br><label><b>dtype:</b> float64</label>"
            ]
          },
          "metadata": {},
          "execution_count": 14
        }
      ]
    },
    {
      "cell_type": "code",
      "source": [
        "d.skew()"
      ],
      "metadata": {
        "colab": {
          "base_uri": "https://localhost:8080/",
          "height": 303
        },
        "id": "dox4jyKSWL-k",
        "outputId": "e62c27aa-5fe8-4972-e432-70bef2c4c9c3"
      },
      "execution_count": null,
      "outputs": [
        {
          "output_type": "execute_result",
          "data": {
            "text/plain": [
              "Distance                      0.291117\n",
              "Delivery_Person_Experience   -0.005337\n",
              "Restaurant_Rating            -0.051046\n",
              "Customer_Rating               0.076094\n",
              "Delivery_Time                -0.180984\n",
              "Order_Cost                   -0.023487\n",
              "Tip_Amount                    0.084603\n",
              "dtype: float64"
            ],
            "text/html": [
              "<div>\n",
              "<style scoped>\n",
              "    .dataframe tbody tr th:only-of-type {\n",
              "        vertical-align: middle;\n",
              "    }\n",
              "\n",
              "    .dataframe tbody tr th {\n",
              "        vertical-align: top;\n",
              "    }\n",
              "\n",
              "    .dataframe thead th {\n",
              "        text-align: right;\n",
              "    }\n",
              "</style>\n",
              "<table border=\"1\" class=\"dataframe\">\n",
              "  <thead>\n",
              "    <tr style=\"text-align: right;\">\n",
              "      <th></th>\n",
              "      <th>0</th>\n",
              "    </tr>\n",
              "  </thead>\n",
              "  <tbody>\n",
              "    <tr>\n",
              "      <th>Distance</th>\n",
              "      <td>0.291117</td>\n",
              "    </tr>\n",
              "    <tr>\n",
              "      <th>Delivery_Person_Experience</th>\n",
              "      <td>-0.005337</td>\n",
              "    </tr>\n",
              "    <tr>\n",
              "      <th>Restaurant_Rating</th>\n",
              "      <td>-0.051046</td>\n",
              "    </tr>\n",
              "    <tr>\n",
              "      <th>Customer_Rating</th>\n",
              "      <td>0.076094</td>\n",
              "    </tr>\n",
              "    <tr>\n",
              "      <th>Delivery_Time</th>\n",
              "      <td>-0.180984</td>\n",
              "    </tr>\n",
              "    <tr>\n",
              "      <th>Order_Cost</th>\n",
              "      <td>-0.023487</td>\n",
              "    </tr>\n",
              "    <tr>\n",
              "      <th>Tip_Amount</th>\n",
              "      <td>0.084603</td>\n",
              "    </tr>\n",
              "  </tbody>\n",
              "</table>\n",
              "</div><br><label><b>dtype:</b> float64</label>"
            ]
          },
          "metadata": {},
          "execution_count": 15
        }
      ]
    },
    {
      "cell_type": "code",
      "source": [
        "d.kurt()"
      ],
      "metadata": {
        "colab": {
          "base_uri": "https://localhost:8080/",
          "height": 303
        },
        "id": "Vg-gQUxCWL7f",
        "outputId": "7a52d73e-0750-44a7-abe9-6c0563481841"
      },
      "execution_count": null,
      "outputs": [
        {
          "output_type": "execute_result",
          "data": {
            "text/plain": [
              "Distance                     -0.978265\n",
              "Delivery_Person_Experience   -1.221268\n",
              "Restaurant_Rating            -1.048698\n",
              "Customer_Rating              -1.227153\n",
              "Delivery_Time                -1.099662\n",
              "Order_Cost                   -1.204280\n",
              "Tip_Amount                   -1.156979\n",
              "dtype: float64"
            ],
            "text/html": [
              "<div>\n",
              "<style scoped>\n",
              "    .dataframe tbody tr th:only-of-type {\n",
              "        vertical-align: middle;\n",
              "    }\n",
              "\n",
              "    .dataframe tbody tr th {\n",
              "        vertical-align: top;\n",
              "    }\n",
              "\n",
              "    .dataframe thead th {\n",
              "        text-align: right;\n",
              "    }\n",
              "</style>\n",
              "<table border=\"1\" class=\"dataframe\">\n",
              "  <thead>\n",
              "    <tr style=\"text-align: right;\">\n",
              "      <th></th>\n",
              "      <th>0</th>\n",
              "    </tr>\n",
              "  </thead>\n",
              "  <tbody>\n",
              "    <tr>\n",
              "      <th>Distance</th>\n",
              "      <td>-0.978265</td>\n",
              "    </tr>\n",
              "    <tr>\n",
              "      <th>Delivery_Person_Experience</th>\n",
              "      <td>-1.221268</td>\n",
              "    </tr>\n",
              "    <tr>\n",
              "      <th>Restaurant_Rating</th>\n",
              "      <td>-1.048698</td>\n",
              "    </tr>\n",
              "    <tr>\n",
              "      <th>Customer_Rating</th>\n",
              "      <td>-1.227153</td>\n",
              "    </tr>\n",
              "    <tr>\n",
              "      <th>Delivery_Time</th>\n",
              "      <td>-1.099662</td>\n",
              "    </tr>\n",
              "    <tr>\n",
              "      <th>Order_Cost</th>\n",
              "      <td>-1.204280</td>\n",
              "    </tr>\n",
              "    <tr>\n",
              "      <th>Tip_Amount</th>\n",
              "      <td>-1.156979</td>\n",
              "    </tr>\n",
              "  </tbody>\n",
              "</table>\n",
              "</div><br><label><b>dtype:</b> float64</label>"
            ]
          },
          "metadata": {},
          "execution_count": 16
        }
      ]
    },
    {
      "cell_type": "code",
      "source": [
        "pca=PCA(n_components=2)\n",
        "x_pca=pca.fit(scaled_data)\n",
        "x_pca=pca.transform(scaled_data)\n",
        "\n",
        "\n",
        "plt.scatter(x_pca[:,0],x_pca[:,1],c=df['Delivery_Time'],cmap='plasma')\n",
        "plt.xlabel('First principal component')\n",
        "plt.ylabel('Second Principal Component')"
      ],
      "metadata": {
        "colab": {
          "base_uri": "https://localhost:8080/",
          "height": 466
        },
        "id": "Gb_R5XHBWky0",
        "outputId": "409194f2-1bac-42af-ef73-e8de6612c5e4"
      },
      "execution_count": null,
      "outputs": [
        {
          "output_type": "execute_result",
          "data": {
            "text/plain": [
              "Text(0, 0.5, 'Second Principal Component')"
            ]
          },
          "metadata": {},
          "execution_count": 17
        },
        {
          "output_type": "display_data",
          "data": {
            "text/plain": [
              "<Figure size 640x480 with 1 Axes>"
            ],
            "image/png": "[encoded data removed]"
          },
          "metadata": {}
        }
      ]
    },
    {
      "cell_type": "code",
      "source": [
        "plt.boxplot(df['Delivery_Time'])\n",
        "plt.show()\n",
        "\n",
        "# Calculate IQR and outlier boundaries\n",
        "Q1 = np.percentile(df['Delivery_Time'], 25)\n",
        "Q3 = np.percentile(df['Delivery_Time'], 75)\n",
        "IQR = Q3 - Q1\n",
        "lower_bound = Q1 - 1.5 * IQR\n",
        "upper_bound = Q3 + 1.5 * IQR\n",
        "\n",
        "# Identify outliers\n",
        "outliers = [x for x in df['Delivery_Time'] if x < lower_bound or x > upper_bound]\n",
        "print(f\"Outliers: {outliers}\")"
      ],
      "metadata": {
        "colab": {
          "base_uri": "https://localhost:8080/",
          "height": 447
        },
        "id": "dw6mZKzx08or",
        "outputId": "ac74383c-b89a-4c87-e148-2587f0d20274"
      },
      "execution_count": null,
      "outputs": [
        {
          "output_type": "display_data",
          "data": {
            "text/plain": [
              "<Figure size 640x480 with 1 Axes>"
            ],
            "image/png": "[encoded data removed]"
          },
          "metadata": {}
        },
        {
          "output_type": "stream",
          "name": "stdout",
          "text": [
            "Outliers: []\n"
          ]
        }
      ]
    },
    {
      "cell_type": "code",
      "source": [
        "def haversine(Restaurant_Location,Customer_Location):\n",
        "    R = 6371  # Earth’s radius in km\n",
        "    lat1, lon1 = Restaurant_Location\n",
        "    lat2, lon2 = Customer_Location\n",
        "    lat1, lon1, lat2, lon2 = map(np.radians, [lat1, lon1, lat2, lon2])  # Convert degrees to radians\n",
        "    dlat = lat2 - lat1\n",
        "    dlon = lon2 - lon1\n",
        "    a = np.sin(dlat/2.0)**2 + np.cos(lat1) * np.cos(lat2) * np.sin(dlon/2.0)**2\n",
        "    c = 2 * np.arcsin(np.sqrt(a))\n",
        "    return R * c  # Distance in km"
      ],
      "metadata": {
        "id": "hJF8g8fz36KI"
      },
      "execution_count": null,
      "outputs": []
    },
    {
      "cell_type": "code",
      "source": [
        "# Apply haversine function to calculate distances\n",
        "df[\"Distance\"] = df.apply(lambda row: haversine(ast.literal_eval(row[\"Restaurant_Location\"]), ast.literal_eval(row[\"Customer_Location\"])), axis=1)\n",
        "\n",
        "\n",
        "# Display results\n",
        "print(df[[\"Restaurant_Location\", \"Customer_Location\", \"Distance\"]])"
      ],
      "metadata": {
        "colab": {
          "base_uri": "https://localhost:8080/"
        },
        "id": "pRaZ01Ll639I",
        "outputId": "f92ac8c2-ddf2-41ec-c8fd-36e5e7740409"
      },
      "execution_count": null,
      "outputs": [
        {
          "output_type": "stream",
          "name": "stdout",
          "text": [
            "        Restaurant_Location       Customer_Location     Distance\n",
            "0    (12.358515, 85.100083)  (17.030479, 79.743077)   775.651198\n",
            "1    (14.174874, 77.025606)  (15.398319, 86.639122)  1042.385597\n",
            "2    (19.594748, 82.048482)  (15.687342, 83.888808)   476.220706\n",
            "3    (16.915906, 78.278698)  (20.415599, 78.046984)   389.912629\n",
            "4    (15.206038, 86.203182)  (14.786904, 78.706532)   806.505886\n",
            "..                      ...                     ...          ...\n",
            "195  (18.098924, 87.896124)   (17.910045, 81.56199)   670.130652\n",
            "196  (16.892341, 80.554716)   (21.66459, 82.226635)   558.891202\n",
            "197  (13.625369, 82.418092)   (14.575401, 82.55641)   106.686689\n",
            "198  (19.135509, 86.659978)  (12.094497, 82.893369)   880.580093\n",
            "199   (20.941636, 77.01334)  (19.360304, 84.132424)   763.581776\n",
            "\n",
            "[200 rows x 3 columns]\n"
          ]
        }
      ]
    },
    {
      "cell_type": "code",
      "source": [
        "# Mapping Order_Time categories to approximate hour ranges\n",
        "time_mapping = {\n",
        "    \"Morning\": 8,    # 5 AM - 12 PM\n",
        "    \"Afternoon\": 14, # 12 PM - 5 PM\n",
        "    \"Evening\": 18,   # 5 PM - 9 PM\n",
        "    \"Night\": 22      # 9 PM - 5 AM\n",
        "}\n",
        "\n",
        "# Create a new column for estimated hour of order\n",
        "df['Hour_of_Day'] = df['Order_Time'].map(time_mapping)\n",
        "\n",
        "# Define rush hours (Example: 7-9 AM, 5-8 PM)\n",
        "df['Rush_Hour'] = df['Hour_of_Day'].apply(lambda x: 1 if x in [8, 18] else 0)\n",
        "\n",
        "# Display results\n",
        "print(df[['Order_Time', 'Hour_of_Day', 'Rush_Hour']])\n"
      ],
      "metadata": {
        "colab": {
          "base_uri": "https://localhost:8080/"
        },
        "id": "gLLpwiaJGVpA",
        "outputId": "24c44049-b8ac-4a85-e11b-9d49ed1e801d"
      },
      "execution_count": null,
      "outputs": [
        {
          "output_type": "stream",
          "name": "stdout",
          "text": [
            "    Order_Time  Hour_of_Day  Rush_Hour\n",
            "0    Afternoon           14          0\n",
            "1        Night           22          0\n",
            "2        Night           22          0\n",
            "3      Evening           18          1\n",
            "4        Night           22          0\n",
            "..         ...          ...        ...\n",
            "195      Night           22          0\n",
            "196      Night           22          0\n",
            "197  Afternoon           14          0\n",
            "198      Night           22          0\n",
            "199    Morning            8          1\n",
            "\n",
            "[200 rows x 3 columns]\n"
          ]
        }
      ]
    },
    {
      "cell_type": "code",
      "source": [
        "X = df[['Distance','Traffic_Conditions','Order_Priority']]\n",
        "y = df['Delivery_Time']\n",
        "\n",
        "X_train, X_test, y_train, y_test = train_test_split(X, y, test_size=0.2)\n",
        "\n",
        "model = LinearRegression()\n",
        "model.fit(X_train, y_train)\n",
        "\n",
        "y_pred = model.predict(X_test)\n",
        "y_pred\n",
        "\n"
      ],
      "metadata": {
        "colab": {
          "base_uri": "https://localhost:8080/"
        },
        "id": "gW-KZhrYIwVU",
        "outputId": "106db55b-2196-4149-9799-9127c26e863a"
      },
      "execution_count": null,
      "outputs": [
        {
          "output_type": "execute_result",
          "data": {
            "text/plain": [
              "array([72.3985126 , 71.70743173, 67.56198234, 70.32997506, 73.70968356,\n",
              "       68.96907992, 71.35720053, 71.63103065, 73.90432471, 65.51544525,\n",
              "       70.50292874, 67.5843354 , 71.58427049, 69.5780078 , 70.8599587 ,\n",
              "       71.40835279, 68.43218967, 72.37905531, 70.03016228, 72.21907316,\n",
              "       69.27422377, 71.2137799 , 66.45044196, 72.88822184, 70.27951704,\n",
              "       72.66442889, 70.92914017, 69.64576119, 71.5520864 , 68.6761055 ,\n",
              "       72.26311368, 68.91206788, 67.40496421, 68.58641991, 66.57688021,\n",
              "       69.61507344, 70.96596108, 65.32945179, 70.58762491, 71.57161195])"
            ]
          },
          "metadata": {},
          "execution_count": 64
        }
      ]
    },
    {
      "cell_type": "code",
      "source": [
        "\n",
        "mse = mean_squared_error(y_test, y_pred)\n",
        "print(f\"Mean Squared Error (MSE): {mse}\")\n",
        "\n",
        "r2 = r2_score(y_test, y_pred)\n",
        "print(f\"R-squared (R²): {r2}\")\n",
        "\n",
        "mae = mean_absolute_error(y_test, y_pred)\n",
        "print(f\"Mean Absolute Error (MAE): {mae}\")\n"
      ],
      "metadata": {
        "colab": {
          "base_uri": "https://localhost:8080/"
        },
        "id": "beKOYUobMfmv",
        "outputId": "c576c6aa-44dd-4a20-84c4-a9875c33e3d6"
      },
      "execution_count": null,
      "outputs": [
        {
          "output_type": "stream",
          "name": "stdout",
          "text": [
            "Mean Squared Error (MSE): 903.2591641475301\n",
            "R-squared (R²): 0.007368955027214907\n",
            "Mean Absolute Error (MAE): 26.19980813327873\n"
          ]
        }
      ]
    },
    {
      "cell_type": "code",
      "source": [
        "threshold = df['Delivery_Time'].median()  # Using the median delivery time as a threshold\n",
        "\n",
        "# Create the target variable 'Delivery_Status'\n",
        "df['Delivery_Status'] = df['Delivery_Time'].apply(lambda x: \"Fast\" if x <= threshold else \"Delayed\")\n",
        "\n",
        "# Encode 'Delivery_Status'\n",
        "le = LabelEncoder()\n",
        "df[\"Delivery_Status\"] = le.fit_transform(df[\"Delivery_Status\"])\n",
        "\n",
        "# Select features (X) and target (y)\n",
        "X = df[['Distance','Traffic_Conditions','Weather_Conditions','Delivery_Person_Experience','Order_Priority']] # Consider other relevant features\n",
        "y = df['Delivery_Status']\n",
        "\n",
        "\n",
        "# Split data into training and testing sets\n",
        "X_train, X_test, y_train, y_test = train_test_split(X, y, test_size=0.2)\n",
        "\n",
        "# Initialize and train a Logistic Regression model\n",
        "model = LogisticRegression()\n",
        "model.fit(X_train, y_train)\n",
        "\n",
        "# Make predictions on the test set\n",
        "y_pred = model.predict(X_test)\n",
        "y_pred\n"
      ],
      "metadata": {
        "colab": {
          "base_uri": "https://localhost:8080/"
        },
        "id": "KyI8alisMuBc",
        "outputId": "ef100e7f-457a-4fc3-a366-75db70bd1150"
      },
      "execution_count": null,
      "outputs": [
        {
          "output_type": "execute_result",
          "data": {
            "text/plain": [
              "array([1, 0, 1, 0, 0, 1, 0, 0, 1, 0, 1, 1, 0, 0, 0, 1, 1, 1, 0, 0, 0, 0,\n",
              "       0, 1, 0, 1, 0, 0, 0, 1, 1, 0, 1, 0, 1, 0, 0, 1, 0, 1])"
            ]
          },
          "metadata": {},
          "execution_count": 89
        }
      ]
    },
    {
      "cell_type": "code",
      "source": [
        "accuracy = accuracy_score(y_test, y_pred)\n",
        "precision = precision_score(y_test, y_pred)\n",
        "recall = recall_score(y_test, y_pred)\n",
        "f1 = f1_score(y_test, y_pred)\n",
        "conf_matrix = confusion_matrix(y_test, y_pred)\n",
        "\n",
        "print(f\"Accuracy: {accuracy}\")\n",
        "print(f\"Precision: {precision}\")\n",
        "print(f\"Recall: {recall}\")\n",
        "print(f\"F1-score: {f1}\")\n",
        "print(f\"Confusion Matrix:\\n{conf_matrix}\")\n"
      ],
      "metadata": {
        "colab": {
          "base_uri": "https://localhost:8080/"
        },
        "id": "BvYPqHegPqNP",
        "outputId": "5b59ba3d-c29c-46ac-ef3e-4b7aed761500"
      },
      "execution_count": null,
      "outputs": [
        {
          "output_type": "stream",
          "name": "stdout",
          "text": [
            "Accuracy: 0.525\n",
            "Precision: 0.47058823529411764\n",
            "Recall: 0.4444444444444444\n",
            "F1-score: 0.45714285714285713\n",
            "Confusion Matrix:\n",
            "[[13  9]\n",
            " [10  8]]\n"
          ]
        }
      ]
    },
    {
      "cell_type": "code",
      "source": [
        "disp = ConfusionMatrixDisplay(confusion_matrix=conf_matrix)\n",
        "disp.plot()\n",
        "plt.show()\n",
        "\n",
        "\n",
        "# ROC Curve for Logistic Regression\n",
        "y_prob = model.predict_proba(X_test)[:, 1]  # Probability of positive class\n",
        "fpr, tpr, thresholds = roc_curve(y_test, y_prob)\n",
        "roc_auc = auc(fpr, tpr)\n",
        "\n",
        "\n",
        "plt.figure()\n",
        "plt.plot(fpr, tpr, color='darkorange', lw=2, label='ROC curve (area = %0.2f)' % roc_auc)\n",
        "plt.plot([0, 1], [0, 1], color='navy', lw=2, linestyle='--')\n",
        "plt.xlabel('False Positive Rate')\n",
        "plt.ylabel('True Positive Rate')\n",
        "plt.title('Logistic Regression ROC Curve')\n",
        "plt.legend(loc=\"lower right\")\n",
        "plt.show()\n",
        "\n"
      ],
      "metadata": {
        "colab": {
          "base_uri": "https://localhost:8080/",
          "height": 927
        },
        "id": "BhIQ2f3pSEHC",
        "outputId": "c17f2f9f-ec4e-40b8-cfda-67ad10b5971e"
      },
      "execution_count": null,
      "outputs": [
        {
          "output_type": "display_data",
          "data": {
            "text/plain": [
              "<Figure size 640x480 with 2 Axes>"
            ],
            "image/png": "[encoded data removed]"
          },
          "metadata": {}
        },
        {
          "output_type": "display_data",
          "data": {
            "text/plain": [
              "<Figure size 640x480 with 1 Axes>"
            ],
            "image/png": "[encoded data removed]"
          },
          "metadata": {}
        },
        {
          "output_type": "stream",
          "name": "stdout",
          "text": [
            "0.43434343434343436\n"
          ]
        }
      ]
    }
  ]
}